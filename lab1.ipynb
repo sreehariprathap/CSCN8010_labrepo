{
 "cells": [
  {
   "cell_type": "markdown",
   "metadata": {},
   "source": [
    "# Lab 1\n",
    "\n",
    "## Introduction\n",
    "\n",
    "### Description\n",
    "\n",
    "in order to make something **BOLD** you need to use two asterisks on each side of the word or phrase you want to make bold.\n",
    "\n",
    "in order to make something *italic* you need to use one asterisk on each side of the word or phrase you want to make italic.\n",
    "\n",
    "in order to make something ***bold and italic*** you need to use three asterisks on each side of the word or phrase you want to make bold and italic.\n",
    "\n",
    "in order to add subscripts you need to use the underscore symbol followed by the subscript you want to add. for example H<sub>2</sub>O.\n",
    "\n",
    "in order to add superscripts you need to use the caret symbol followed by the superscript you want to add. for example x<sup>2</sup>.\n",
    "\n",
    "in order to add an image you need to use the exclamation mark followed by the alt text in square brackets and the image URL in round brackets. for example ![Jupyter notebook](https://upload.wikimedia.org/wikipedia/commons/thumb/3/38/Jupyter_logo.svg/1200px-Jupyter_logo.svg.png).\n",
    "\n",
    "to add a link you need to use square brackets to add the text you want to display and round brackets to add the URL. for example [Jupyter notebook](https://jupyter.org/).\n",
    "\n",
    "to display a list you need to use an asterisk followed by a space and the list item. for example:\n",
    "* item 1\n",
    "* item 2\n",
    "* item 3\n",
    "\n",
    "to display an ordered list you need to use a number followed by a period and a space and the list item. for example:\n",
    "1. item 1\n",
    "2. item 2\n",
    "3. item 3\n",
    "\n",
    "to display a table you need to use the pipe symbol to separate the columns and the hyphen symbol to separate the header row from the data rows. for example:\n",
    "row 1 column 1 | row 1 column 2\n",
    "---------------|---------------\n",
    "row 2 column 1 | row 2 column 2\n",
    "row 3 column 1 | row 3 column 2\n",
    "\n",
    "\n",
    "\n",
    "\n"
   ]
  },
  {
   "cell_type": "markdown",
   "metadata": {},
   "source": []
  }
 ],
 "metadata": {
  "language_info": {
   "name": "python"
  }
 },
 "nbformat": 4,
 "nbformat_minor": 2
}
